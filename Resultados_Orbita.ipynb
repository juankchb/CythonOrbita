{
  "nbformat": 4,
  "nbformat_minor": 0,
  "metadata": {
    "colab": {
      "provenance": [],
      "collapsed_sections": []
    },
    "kernelspec": {
      "name": "python3",
      "display_name": "Python 3"
    },
    "language_info": {
      "name": "python"
    }
  },
  "cells": [
    {
      "cell_type": "markdown",
      "source": [
        "![image.png](data:image/png;base64,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)\n",
        "\n",
        "\n",
        "Juan Camilo Fernandez\n",
        "Resultados Rendimiento programa orbita"
      ],
      "metadata": {
        "id": "4h5eBVwKvXwU"
      }
    },
    {
      "cell_type": "code",
      "execution_count": null,
      "metadata": {
        "id": "VY7_CsviuLds"
      },
      "outputs": [],
      "source": [
        "import pandas as pd\n",
        "import matplotlib.pyplot as plt"
      ]
    },
    {
      "cell_type": "markdown",
      "source": [
        "Las pruebas de rendimiento se hiciron en un equipo con las siguientes caracteristicas:\n",
        "\n",
        "    Model name:          AMD Ryzen 5 3500U with Radeon Vega Mobile Gfx\n",
        "    CPU family:          23\n",
        "    Model:               24\n",
        "    Thread(s) per core:  2\n",
        "    Core(s) per socket:  4\n",
        "    Socket(s):           1\n",
        "    Stepping:            1\n",
        "    Frequency boost:     enabled\n",
        "    CPU max MHz:         2100,0000\n",
        "    CPU min MHz:         1400,0000\n",
        "    Memory Ram:          14GiB System memory\n"
      ],
      "metadata": {
        "id": "cKgX-wMFxj-d"
      }
    },
    {
      "cell_type": "code",
      "source": [
        "df=pd.read_csv('/content/tierra.csv')\n",
        "df.columns=['Python','Cython']\n",
        "df.head()"
      ],
      "metadata": {
        "colab": {
          "base_uri": "https://localhost:8080/",
          "height": 206
        },
        "id": "Bc39QpOrvO7n",
        "outputId": "108ac9a2-c17b-4855-8953-cb2b569aa4f6"
      },
      "execution_count": null,
      "outputs": [
        {
          "output_type": "execute_result",
          "data": {
            "text/plain": [
              "     Python    Cython\n",
              "0  30.28470  0.929262\n",
              "1  27.56581  0.918140\n",
              "2  26.39981  0.916353\n",
              "3  25.86198  0.894506\n",
              "4  26.29643  0.907095"
            ],
            "text/html": [
              "\n",
              "  <div id=\"df-2dd5fd61-6e35-4927-ae3e-e6b98ae53c3e\">\n",
              "    <div class=\"colab-df-container\">\n",
              "      <div>\n",
              "<style scoped>\n",
              "    .dataframe tbody tr th:only-of-type {\n",
              "        vertical-align: middle;\n",
              "    }\n",
              "\n",
              "    .dataframe tbody tr th {\n",
              "        vertical-align: top;\n",
              "    }\n",
              "\n",
              "    .dataframe thead th {\n",
              "        text-align: right;\n",
              "    }\n",
              "</style>\n",
              "<table border=\"1\" class=\"dataframe\">\n",
              "  <thead>\n",
              "    <tr style=\"text-align: right;\">\n",
              "      <th></th>\n",
              "      <th>Python</th>\n",
              "      <th>Cython</th>\n",
              "    </tr>\n",
              "  </thead>\n",
              "  <tbody>\n",
              "    <tr>\n",
              "      <th>0</th>\n",
              "      <td>30.28470</td>\n",
              "      <td>0.929262</td>\n",
              "    </tr>\n",
              "    <tr>\n",
              "      <th>1</th>\n",
              "      <td>27.56581</td>\n",
              "      <td>0.918140</td>\n",
              "    </tr>\n",
              "    <tr>\n",
              "      <th>2</th>\n",
              "      <td>26.39981</td>\n",
              "      <td>0.916353</td>\n",
              "    </tr>\n",
              "    <tr>\n",
              "      <th>3</th>\n",
              "      <td>25.86198</td>\n",
              "      <td>0.894506</td>\n",
              "    </tr>\n",
              "    <tr>\n",
              "      <th>4</th>\n",
              "      <td>26.29643</td>\n",
              "      <td>0.907095</td>\n",
              "    </tr>\n",
              "  </tbody>\n",
              "</table>\n",
              "</div>\n",
              "      <button class=\"colab-df-convert\" onclick=\"convertToInteractive('df-2dd5fd61-6e35-4927-ae3e-e6b98ae53c3e')\"\n",
              "              title=\"Convert this dataframe to an interactive table.\"\n",
              "              style=\"display:none;\">\n",
              "        \n",
              "  <svg xmlns=\"http://www.w3.org/2000/svg\" height=\"24px\"viewBox=\"0 0 24 24\"\n",
              "       width=\"24px\">\n",
              "    <path d=\"M0 0h24v24H0V0z\" fill=\"none\"/>\n",
              "    <path d=\"M18.56 5.44l.94 2.06.94-2.06 2.06-.94-2.06-.94-.94-2.06-.94 2.06-2.06.94zm-11 1L8.5 8.5l.94-2.06 2.06-.94-2.06-.94L8.5 2.5l-.94 2.06-2.06.94zm10 10l.94 2.06.94-2.06 2.06-.94-2.06-.94-.94-2.06-.94 2.06-2.06.94z\"/><path d=\"M17.41 7.96l-1.37-1.37c-.4-.4-.92-.59-1.43-.59-.52 0-1.04.2-1.43.59L10.3 9.45l-7.72 7.72c-.78.78-.78 2.05 0 2.83L4 21.41c.39.39.9.59 1.41.59.51 0 1.02-.2 1.41-.59l7.78-7.78 2.81-2.81c.8-.78.8-2.07 0-2.86zM5.41 20L4 18.59l7.72-7.72 1.47 1.35L5.41 20z\"/>\n",
              "  </svg>\n",
              "      </button>\n",
              "      \n",
              "  <style>\n",
              "    .colab-df-container {\n",
              "      display:flex;\n",
              "      flex-wrap:wrap;\n",
              "      gap: 12px;\n",
              "    }\n",
              "\n",
              "    .colab-df-convert {\n",
              "      background-color: #E8F0FE;\n",
              "      border: none;\n",
              "      border-radius: 50%;\n",
              "      cursor: pointer;\n",
              "      display: none;\n",
              "      fill: #1967D2;\n",
              "      height: 32px;\n",
              "      padding: 0 0 0 0;\n",
              "      width: 32px;\n",
              "    }\n",
              "\n",
              "    .colab-df-convert:hover {\n",
              "      background-color: #E2EBFA;\n",
              "      box-shadow: 0px 1px 2px rgba(60, 64, 67, 0.3), 0px 1px 3px 1px rgba(60, 64, 67, 0.15);\n",
              "      fill: #174EA6;\n",
              "    }\n",
              "\n",
              "    [theme=dark] .colab-df-convert {\n",
              "      background-color: #3B4455;\n",
              "      fill: #D2E3FC;\n",
              "    }\n",
              "\n",
              "    [theme=dark] .colab-df-convert:hover {\n",
              "      background-color: #434B5C;\n",
              "      box-shadow: 0px 1px 3px 1px rgba(0, 0, 0, 0.15);\n",
              "      filter: drop-shadow(0px 1px 2px rgba(0, 0, 0, 0.3));\n",
              "      fill: #FFFFFF;\n",
              "    }\n",
              "  </style>\n",
              "\n",
              "      <script>\n",
              "        const buttonEl =\n",
              "          document.querySelector('#df-2dd5fd61-6e35-4927-ae3e-e6b98ae53c3e button.colab-df-convert');\n",
              "        buttonEl.style.display =\n",
              "          google.colab.kernel.accessAllowed ? 'block' : 'none';\n",
              "\n",
              "        async function convertToInteractive(key) {\n",
              "          const element = document.querySelector('#df-2dd5fd61-6e35-4927-ae3e-e6b98ae53c3e');\n",
              "          const dataTable =\n",
              "            await google.colab.kernel.invokeFunction('convertToInteractive',\n",
              "                                                     [key], {});\n",
              "          if (!dataTable) return;\n",
              "\n",
              "          const docLinkHtml = 'Like what you see? Visit the ' +\n",
              "            '<a target=\"_blank\" href=https://colab.research.google.com/notebooks/data_table.ipynb>data table notebook</a>'\n",
              "            + ' to learn more about interactive tables.';\n",
              "          element.innerHTML = '';\n",
              "          dataTable['output_type'] = 'display_data';\n",
              "          await google.colab.output.renderOutput(dataTable, element);\n",
              "          const docLink = document.createElement('div');\n",
              "          docLink.innerHTML = docLinkHtml;\n",
              "          element.appendChild(docLink);\n",
              "        }\n",
              "      </script>\n",
              "    </div>\n",
              "  </div>\n",
              "  "
            ]
          },
          "metadata": {},
          "execution_count": 10
        }
      ]
    },
    {
      "cell_type": "code",
      "source": [
        "df.plot()\n",
        "plt.title('Rendimiento en el tiempo')\n",
        "plt.legend()\n",
        "plt.show()"
      ],
      "metadata": {
        "colab": {
          "base_uri": "https://localhost:8080/",
          "height": 281
        },
        "id": "z_WvmB9Tyk37",
        "outputId": "5354bb9b-b8a2-4784-e8ad-5690760affd4"
      },
      "execution_count": null,
      "outputs": [
        {
          "output_type": "display_data",
          "data": {
            "text/plain": [
              "<Figure size 432x288 with 1 Axes>"
            ],
            "image/png": "[encoded data removed]"
          },
          "metadata": {
            "needs_background": "light"
          }
        }
      ]
    },
    {
      "cell_type": "code",
      "source": [
        "print('Promedio de tiempo de ejecucion de cython es de: ',df['Cython'].mean())\n",
        "print('Promedio de tiempo de ejecucion de cython es de: ',df['Python'].mean())"
      ],
      "metadata": {
        "colab": {
          "base_uri": "https://localhost:8080/"
        },
        "id": "Zw1nv9CCzVFQ",
        "outputId": "0a44adb7-6c3d-4a73-b9af-77b0ca4865d6"
      },
      "execution_count": null,
      "outputs": [
        {
          "output_type": "stream",
          "name": "stdout",
          "text": [
            "Promedio de tiempo de ejecucion de cython es de:  0.9270077241379311\n",
            "Promedio de tiempo de ejecucion de cython es de:  26.90825896551724\n"
          ]
        }
      ]
    },
    {
      "cell_type": "markdown",
      "source": [
        "Se concluye que la ganancia de tiempo de ejecucion de cython es en promedio de 25 segundos, teniendo una media de ejecucion de 0.92s, mientras que la media de ejecucion de python es de 26 segundos, viendose la diferencia notable del tiempo que se demora en ejecutar"
      ],
      "metadata": {
        "id": "cQsfNRBQzz6d"
      }
    },
    {
      "cell_type": "code",
      "source": [],
      "metadata": {
        "id": "yp50IrJJzmek"
      },
      "execution_count": null,
      "outputs": []
    },
    {
      "cell_type": "code",
      "source": [],
      "metadata": {
        "id": "he6n672sH6fb"
      },
      "execution_count": null,
      "outputs": []
    }
  ]
}